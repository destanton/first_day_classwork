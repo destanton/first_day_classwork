{
 "cells": [
  {
   "cell_type": "code",
   "execution_count": 61,
   "metadata": {
    "collapsed": false
   },
   "outputs": [],
   "source": [
    "#write a program \n",
    "#Ask user to input text\n",
    "#check to see if input is palindrome\n",
    "\n",
    "def palindrome():\n",
    "    text = input(\"Enter a word: \")\n",
    "    if text == text[::-1]:\n",
    "        print(\"That's a Palindrome\")\n",
    "    else:\n",
    "        print(\"That's just a word\")\n"
   ]
  },
  {
   "cell_type": "code",
   "execution_count": null,
   "metadata": {
    "collapsed": false
   },
   "outputs": [],
   "source": [
    "text = input(\"Enter a word: \")\n",
    "if text == text[::-1]:\n",
    "    print(\"That's a Palindrome!\")\n",
    "else:\n",
    "    print(\"That's just a word!\")"
   ]
  },
  {
   "cell_type": "code",
   "execution_count": null,
   "metadata": {
    "collapsed": false
   },
   "outputs": [],
   "source": [
    "text = input(\"Enter a word: \")\n",
    "if text.replace(\" \",\"\") == text.replace(\" \",\"\")[::-1]:\n",
    "    print(\"That's a Palindrome!\")\n",
    "else:\n",
    "    print(\"That's just a word!\")"
   ]
  },
  {
   "cell_type": "code",
   "execution_count": null,
   "metadata": {
    "collapsed": false
   },
   "outputs": [],
   "source": [
    "text = input(\"Enter a word: \")\n",
    "if text.replace(\" \", \"\").replace(\" \", \"\") == text.replace(\" \",\"\").replace(\" \", \"\")[::-1]:\n",
    "    print(\"That's a Palindrome!\")\n",
    "else:\n",
    "    print(\"That's just a word!\")\n",
    "    "
   ]
  },
  {
   "cell_type": "code",
   "execution_count": null,
   "metadata": {
    "collapsed": false
   },
   "outputs": [],
   "source": [
    "text = input(\"Enter a word: \")\n",
    "if text == text[::-1]:\n",
    "    print(\"That's a Palindrome!\")\n",
    "else:\n",
    "    print(\"That's just a word!\")\n",
    "    "
   ]
  },
  {
   "cell_type": "code",
   "execution_count": null,
   "metadata": {
    "collapsed": true
   },
   "outputs": [],
   "source": []
  }
 ],
 "metadata": {
  "kernelspec": {
   "display_name": "Python 3",
   "language": "python",
   "name": "python3"
  },
  "language_info": {
   "codemirror_mode": {
    "name": "ipython",
    "version": 3
   },
   "file_extension": ".py",
   "mimetype": "text/x-python",
   "name": "python",
   "nbconvert_exporter": "python",
   "pygments_lexer": "ipython3",
   "version": "3.5.2"
  }
 },
 "nbformat": 4,
 "nbformat_minor": 1
}
