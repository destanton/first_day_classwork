{
 "cells": [
  {
   "cell_type": "code",
   "execution_count": 11,
   "metadata": {
    "collapsed": false
   },
   "outputs": [
    {
     "name": "stdout",
     "output_type": "stream",
     "text": [
      "Enter a word: racecar\n",
      "That's a Palindrome!\n"
     ]
    }
   ],
   "source": [
    "text = input(\"Enter a word: \").lower()\n",
    "if text == text[::-1]:\n",
    "    print(\"That's a Palindrome!\")\n",
    "else:\n",
    "    print(\"That's just a word!\")"
   ]
  },
  {
   "cell_type": "code",
   "execution_count": 4,
   "metadata": {
    "collapsed": false
   },
   "outputs": [
    {
     "name": "stdout",
     "output_type": "stream",
     "text": [
      "Enter a word: stunt nuts\n",
      "That's a Palindrome!\n"
     ]
    }
   ],
   "source": [
    "text = input(\"Enter a word: \").lower()\n",
    "if text.replace(\" \",\"\") == text.replace(\" \",\"\")[::-1]:\n",
    "    print(\"That's a Palindrome!\")\n",
    "else:\n",
    "    print(\"That's just a word!\")"
   ]
  },
  {
   "cell_type": "code",
   "execution_count": 6,
   "metadata": {
    "collapsed": false
   },
   "outputs": [
    {
     "name": "stdout",
     "output_type": "stream",
     "text": [
      "Enter a word: A but tuba\n",
      "abuttuba\n",
      "That's a Palindrome!\n"
     ]
    }
   ],
   "source": [
    "text = input(\"Enter a word: \").lower()\n",
    "print(text.replace(\" \",\"\").replace(\" \",\"\"))\n",
    "if text.replace(\" \",\"\").replace(\" \",\"\") == text.replace(\" \",\"\").replace(\" \",\"\")[::-1]:\n",
    "    print(\"That's a Palindrome!\")\n",
    "else:\n",
    "    print(\"That's just a word!\")\n",
    "        \n",
    "    "
   ]
  },
  {
   "cell_type": "code",
   "execution_count": 8,
   "metadata": {
    "collapsed": false
   },
   "outputs": [
    {
     "name": "stdout",
     "output_type": "stream",
     "text": [
      "Enter a word: A man, a plan, a cat, a ham, a yak, a yam, a hat, a canal: Panama!\n",
      "amanaplanacatahamayakayamahatacanalpanama\n",
      "That's a Palindrome!\n"
     ]
    }
   ],
   "source": [
    "text = input(\"Enter a word: \").lower()\n",
    "punct = [',', ' ', '-', '!', ':', '.']\n",
    "for x in punct: \n",
    "    text = text.replace(x, \"\")\n",
    "print(text)    \n",
    "if text == text[::-1]:\n",
    "    print(\"That's a Palindrome!\")\n",
    "else:\n",
    "    print(\"That's just a word!\")\n",
    "    "
   ]
  },
  {
   "cell_type": "code",
   "execution_count": null,
   "metadata": {
    "collapsed": true
   },
   "outputs": [],
   "source": []
  }
 ],
 "metadata": {
  "kernelspec": {
   "display_name": "Python 3",
   "language": "python",
   "name": "python3"
  },
  "language_info": {
   "codemirror_mode": {
    "name": "ipython",
    "version": 3
   },
   "file_extension": ".py",
   "mimetype": "text/x-python",
   "name": "python",
   "nbconvert_exporter": "python",
   "pygments_lexer": "ipython3",
   "version": "3.5.2"
  }
 },
 "nbformat": 4,
 "nbformat_minor": 1
}
